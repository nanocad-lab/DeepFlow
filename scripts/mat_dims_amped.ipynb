{
 "cells": [
  {
   "cell_type": "code",
   "execution_count": 40,
   "id": "763abb55-b553-428c-bf53-d3e0a3e06c96",
   "metadata": {
    "tags": []
   },
   "outputs": [
    {
     "name": "stdout",
     "output_type": "stream",
     "text": [
      "1 2560 2048 80 32 2560 10240\n",
      "matrix dimensions accounting for all heads & batched dimension\n",
      "levels: ['X.W=KQV', 'Q.K=R', 'R.V=Z', 'Z.W=O', 'O.WL1=O1', 'O1.WL2=O2']\n",
      "2048  2560  2560\n",
      "2048  80  65536\n",
      "2048  2048  2560\n",
      "2048  2560  2560\n",
      "2048  2560  2560\n",
      "2048  2560  10240\n"
     ]
    }
   ],
   "source": [
    "import numpy as np\n",
    "import argparse\n",
    "\n",
    "def mmm_breakup(B, D, S, h, nheads, h_MLP1, h_MLP2):\n",
    "    mmm =  {}\n",
    "    dims = {}\n",
    "    numlevels = 6\n",
    "    levels = [\"X.W=KQV\", \"Q.K=R\", \"R.V=Z\", \"Z.W=O\", \"O.WL1=O1\", \"O1.WL2=O2\"]\n",
    "    print(\"matrix dimensions accounting for all heads & batched dimension\")\n",
    "    dims[str(levels[0])]=[B*S, D, h*nheads]\n",
    "    dims[str(levels[1])]=[B*S, h, S*nheads]\n",
    "    dims[str(levels[2])]=[B*S, S, h*nheads]\n",
    "    dims[str(levels[3])]=[B*S, D, D]\n",
    "    dims[str(levels[4])]=[B*S, D, h_MLP1]\n",
    "    dims[str(levels[5])]=[B*S, h_MLP1, h_MLP2]\n",
    "    \n",
    "    print(\"levels:\",levels)\n",
    "    file = open(\"mat_dims.txt\",\"w\")\n",
    "    #file.write('#'+str(levels)+'\\n')\n",
    "    for i in range(numlevels):\n",
    "        mmm[str(levels[i])]=[]\n",
    "        mmm[str(levels[i])].append(dims[str(levels[i])])\n",
    "        tmp = str(mmm[str(levels[i])]).replace(\"[\", \"\").replace(\"]\",\"\").replace(\",\", \" \")\n",
    "        print(tmp)\n",
    "        file.write(tmp+'\\n')\n",
    "     \n",
    "def main():\n",
    "    B = 1\n",
    "    D = 2560\n",
    "    S = 2048\n",
    "    h = 80\n",
    "    nheads = 32\n",
    "    h_MLP1 = D\n",
    "    h_MLP2 = D*4\n",
    "    \n",
    "    print(B, D, S, h, nheads, h_MLP1, h_MLP2)\n",
    "    mmm_breakup(B, D, S, h, nheads, h_MLP1, h_MLP2)\n",
    "    \n",
    "if __name__ == '__main__':\n",
    "    main()"
   ]
  },
  {
   "cell_type": "code",
   "execution_count": null,
   "id": "debfb639-e99e-4e66-8fec-f3f0186a133a",
   "metadata": {},
   "outputs": [],
   "source": []
  }
 ],
 "metadata": {
  "kernelspec": {
   "display_name": "Python 3 (ipykernel)",
   "language": "python",
   "name": "python3"
  },
  "language_info": {
   "codemirror_mode": {
    "name": "ipython",
    "version": 3
   },
   "file_extension": ".py",
   "mimetype": "text/x-python",
   "name": "python",
   "nbconvert_exporter": "python",
   "pygments_lexer": "ipython3",
   "version": "3.8.16"
  }
 },
 "nbformat": 4,
 "nbformat_minor": 5
}
